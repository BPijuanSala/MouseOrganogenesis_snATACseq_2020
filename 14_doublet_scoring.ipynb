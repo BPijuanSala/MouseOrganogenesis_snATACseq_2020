{
 "cells": [
  {
   "cell_type": "markdown",
   "metadata": {},
   "source": [
    "# snATAC-seq - doublet scoring with Scrublet\n",
    "\n",
    "Blanca Pijuan-Sala\n",
    "\n",
    "17 April 2019"
   ]
  },
  {
   "cell_type": "code",
   "execution_count": 1,
   "metadata": {},
   "outputs": [
    {
     "name": "stderr",
     "output_type": "stream",
     "text": [
      "/home/USSR/bp382/bin/python/anaconda3/lib/python3.6/site-packages/scanpy/api/__init__.py:6: FutureWarning: \n",
      "\n",
      "In a future version of Scanpy, `scanpy.api` will be removed.\n",
      "Simply use `import scanpy as sc` and `import scanpy.external as sce` instead.\n",
      "\n",
      "  FutureWarning\n"
     ]
    },
    {
     "name": "stdout",
     "output_type": "stream",
     "text": [
      "scanpy==1.4.4.post1 anndata==0.6.22.post1 umap==0.3.7 numpy==1.15.0 scipy==1.3.0 pandas==0.24.0 scikit-learn==0.20.2 statsmodels==0.10.1 python-igraph==0.7.1 louvain==0.6.1\n"
     ]
    }
   ],
   "source": [
    "#Scrublet depends on numpy 1.15 (it doesn't work with 1.16) - pip install numpy==1.15\n",
    "import numpy as np\n",
    "from matplotlib import rcParams\n",
    "import matplotlib.pyplot as pl\n",
    "import scanpy.api as sc\n",
    "import pandas as pd\n",
    "import matplotlib.pyplot as plt\n",
    "\n",
    "sc.settings.verbosity = 3  # verbosity: errors (0), warnings (1), info (2), hints (3)\n",
    "sc.settings.set_figure_params(dpi=100, color_map='viridis')  # low dpi (dots per inch) yields small inline figures\n",
    "sc.logging.print_versions()\n",
    "#Set working directory\n",
    "wd = '/path/to/directory/sample_pooled_preprocess_revision1/'\n",
    "direc = wd\n",
    "sc.settings.figdir = './plots/'\n"
   ]
  },
  {
   "cell_type": "markdown",
   "metadata": {},
   "source": [
    "## Read files"
   ]
  },
  {
   "cell_type": "code",
   "execution_count": 7,
   "metadata": {},
   "outputs": [
    {
     "name": "stdout",
     "output_type": "stream",
     "text": [
      "reading counts\n",
      "WARNING: Your filename has more than two extensions: ['.mat', '.bin', '.mtx'].\n",
      "Only considering the two last: ['.bin', '.mtx'].\n",
      "WARNING: Your filename has more than two extensions: ['.mat', '.bin', '.mtx'].\n",
      "Only considering the two last: ['.bin', '.mtx'].\n",
      "... reading from cache file cache/home-USSR-codex-pipeline-Data-Rebecca-Blanca-sample_pooled_preprocess_revision1-06_matrix-embryo_revision1_allPeaks_passedQC.mat.bin.h5ad\n",
      "reading genes\n",
      "reading cells\n"
     ]
    }
   ],
   "source": [
    "##====== Read counts ======##\n",
    "\n",
    "filename_data = direc + '06_matrix/embryo_revision1_allPeaks_passedQC.mat.bin.mtx'\n",
    "filename_gene_names = direc + '06_matrix/embryo_revision1_allPeaks_passedQC_peakNames.txt'\n",
    "filename_barcodes = direc + '06_matrix/embryo_revision1_allPeaks_passedQC_barcodeNames.xgi'\n",
    "#filename_clustersAll = wd + 'data/cellTypes_20180215.txt'\n",
    "#adata_all_cells = epi.tl.read_ATAC(filename_data, filename_barcodes, filename_gene_names,path_file='')\n",
    "\n",
    "print('reading counts')\n",
    "adata_all_cells = sc.read(filename_data, cache=True).transpose()\n",
    "adata_all_cells.X = adata_all_cells.X.astype(np.int64)\n",
    "print('reading genes')\n",
    "adata_all_cells.var_names = np.genfromtxt(filename_gene_names, dtype='str')\n",
    "print('reading cells')\n",
    "adata_all_cells.obs_names = np.genfromtxt(filename_barcodes, dtype='str')"
   ]
  },
  {
   "cell_type": "code",
   "execution_count": 8,
   "metadata": {},
   "outputs": [
    {
     "data": {
      "text/plain": [
       "(23838, 303418)"
      ]
     },
     "execution_count": 8,
     "metadata": {},
     "output_type": "execute_result"
    }
   ],
   "source": [
    "adata_all_cells.shape"
   ]
  },
  {
   "cell_type": "markdown",
   "metadata": {},
   "source": [
    "# Filtering peaks"
   ]
  },
  {
   "cell_type": "code",
   "execution_count": 9,
   "metadata": {
    "collapsed": true
   },
   "outputs": [],
   "source": [
    "#Take out those coordinates that do not fall within chr[0-9]\n",
    "notWantedFilename =direc + '06_matrix/chr_not_wanted_BED.txt'\n",
    "notWanted = np.genfromtxt(notWantedFilename, dtype='str')\n"
   ]
  },
  {
   "cell_type": "code",
   "execution_count": 10,
   "metadata": {
    "collapsed": true
   },
   "outputs": [],
   "source": [
    "adatabin=adata_all_cells[:,[i not in notWanted for i in adata_all_cells.var_names]]"
   ]
  },
  {
   "cell_type": "code",
   "execution_count": 11,
   "metadata": {
    "collapsed": true
   },
   "outputs": [],
   "source": [
    "del adata_all_cells"
   ]
  },
  {
   "cell_type": "code",
   "execution_count": 12,
   "metadata": {},
   "outputs": [
    {
     "data": {
      "text/plain": [
       "(23838, 303332)"
      ]
     },
     "execution_count": 12,
     "metadata": {},
     "output_type": "execute_result"
    }
   ],
   "source": [
    "adatabin.shape"
   ]
  },
  {
   "cell_type": "code",
   "execution_count": 15,
   "metadata": {
    "collapsed": true
   },
   "outputs": [],
   "source": [
    "#sc.write(results_file,adata)"
   ]
  },
  {
   "cell_type": "markdown",
   "metadata": {},
   "source": [
    "Remove regions with 0 counts"
   ]
  },
  {
   "cell_type": "code",
   "execution_count": 13,
   "metadata": {
    "collapsed": true
   },
   "outputs": [],
   "source": [
    "numPeaks = np.sum(adatabin.X,axis=0).transpose()\n",
    "\n",
    "passQC = numPeaks > 0\n",
    "\n",
    "adatatop = adatabin[:,list(np.array(passQC)[:,0])]\n"
   ]
  },
  {
   "cell_type": "code",
   "execution_count": 14,
   "metadata": {},
   "outputs": [
    {
     "data": {
      "text/plain": [
       "(23838, 301099)"
      ]
     },
     "execution_count": 14,
     "metadata": {},
     "output_type": "execute_result"
    }
   ],
   "source": [
    "adatatop.shape"
   ]
  },
  {
   "cell_type": "markdown",
   "metadata": {},
   "source": [
    "# cisTopic 50-100 "
   ]
  },
  {
   "cell_type": "code",
   "execution_count": 56,
   "metadata": {
    "collapsed": true
   },
   "outputs": [],
   "source": [
    "adata = adatatop"
   ]
  },
  {
   "cell_type": "code",
   "execution_count": 112,
   "metadata": {
    "collapsed": true
   },
   "outputs": [],
   "source": [
    "from scipy.io import mmread\n",
    "cistopic = mmread(direc + '07_doublet_removal/data/cisTopic_matrix_50_100.mtx')\n"
   ]
  },
  {
   "cell_type": "code",
   "execution_count": 113,
   "metadata": {},
   "outputs": [
    {
     "data": {
      "text/plain": [
       "(23838, 100)"
      ]
     },
     "execution_count": 113,
     "metadata": {},
     "output_type": "execute_result"
    }
   ],
   "source": [
    "cistopic = cistopic.todense()\n",
    "cistopic= cistopic.transpose()\n",
    "cistopic.shape"
   ]
  },
  {
   "cell_type": "code",
   "execution_count": 114,
   "metadata": {
    "collapsed": true
   },
   "outputs": [],
   "source": [
    "adata.obsm['X_pca'] = cistopic"
   ]
  },
  {
   "cell_type": "code",
   "execution_count": null,
   "metadata": {
    "collapsed": true
   },
   "outputs": [],
   "source": [
    "sc.write(\"./write/20190416_snATACseq_embryo_revision01_doublets_cisTopic_50_100.h5ad\",adata)"
   ]
  },
  {
   "cell_type": "markdown",
   "metadata": {
    "collapsed": true
   },
   "source": [
    "# Doublet scoring with binary data"
   ]
  },
  {
   "cell_type": "markdown",
   "metadata": {},
   "source": [
    "https://github.com/AllonKleinLab/scrublet/blob/master/old_versions/v0.1/examples/10X_PBMC-8k_example.ipynb"
   ]
  },
  {
   "cell_type": "code",
   "execution_count": 10,
   "metadata": {
    "collapsed": true
   },
   "outputs": [],
   "source": [
    "adata = sc.read(\"./write/20190416_snATACseq_embryo_revision01_doublets_cisTopic_50_100.h5ad\")\n"
   ]
  },
  {
   "cell_type": "code",
   "execution_count": 3,
   "metadata": {},
   "outputs": [
    {
     "data": {
      "text/plain": [
       "(23838, 301099)"
      ]
     },
     "execution_count": 3,
     "metadata": {},
     "output_type": "execute_result"
    }
   ],
   "source": [
    "adata.shape"
   ]
  },
  {
   "cell_type": "code",
   "execution_count": 4,
   "metadata": {
    "collapsed": true
   },
   "outputs": [],
   "source": [
    "%matplotlib inline\n",
    "import scrublet as scr\n",
    "import scipy.io\n",
    "import matplotlib.pyplot as plt\n",
    "import numpy as np\n",
    "import os\n",
    "import time"
   ]
  },
  {
   "cell_type": "code",
   "execution_count": 5,
   "metadata": {
    "collapsed": true
   },
   "outputs": [],
   "source": [
    "plt.rcParams['font.family'] = 'sans-serif'\n",
    "plt.rcParams['font.sans-serif'] = 'Arial'\n",
    "plt.rc('font', size=14)\n",
    "plt.rcParams['pdf.fonttype'] = 42"
   ]
  },
  {
   "cell_type": "code",
   "execution_count": 6,
   "metadata": {
    "collapsed": true
   },
   "outputs": [],
   "source": [
    "scrub = scr.Scrublet(adata.X, expected_doublet_rate=0.1)\n",
    "#If you want to simulate more doublets, increase the doublet rate"
   ]
  },
  {
   "cell_type": "markdown",
   "metadata": {},
   "source": [
    "## Plot the counts in cells"
   ]
  },
  {
   "cell_type": "code",
   "execution_count": 7,
   "metadata": {},
   "outputs": [
    {
     "data": {
      "text/plain": [
       "Text(0, 0.5, 'Number of cells')"
      ]
     },
     "execution_count": 7,
     "metadata": {},
     "output_type": "execute_result"
    },
    {
     "name": "stderr",
     "output_type": "stream",
     "text": [
      "/home/USSR/bp382/bin/python/anaconda3/lib/python3.6/site-packages/matplotlib/font_manager.py:1241: UserWarning: findfont: Font family ['sans-serif'] not found. Falling back to DejaVu Sans.\n",
      "  (prop.get_family(), self.defaultFamily[fontext]))\n"
     ]
    },
    {
     "data": {
      "image/png": "[encoded data removed]",
      "text/plain": [
       "<Figure size 360x216 with 1 Axes>"
      ]
     },
     "metadata": {
      "image/png": {
       "height": 225,
       "width": 366
      }
     },
     "output_type": "display_data"
    }
   ],
   "source": [
    "E = adata.X\n",
    "total_counts = adata.X.sum(1).A.squeeze()\n",
    "\n",
    "fig, ax = plt.subplots(figsize = (5, 3))\n",
    "ax.hist(total_counts)\n",
    "ax.set_xscale('log')\n",
    "ax.set_xlabel('Total counts')\n",
    "ax.set_ylabel('Number of cells')"
   ]
  },
  {
   "cell_type": "code",
   "execution_count": 8,
   "metadata": {},
   "outputs": [
    {
     "name": "stdout",
     "output_type": "stream",
     "text": [
      "Preprocessing...\n"
     ]
    },
    {
     "name": "stderr",
     "output_type": "stream",
     "text": [
      "/home/USSR/bp382/bin/python/anaconda3/lib/python3.6/site-packages/scrublet/helper_functions.py:251: RuntimeWarning: invalid value encountered in sqrt\n",
      "  CV_input = np.sqrt(b);\n"
     ]
    },
    {
     "name": "stdout",
     "output_type": "stream",
     "text": [
      "Simulating doublets...\n",
      "Embedding transcriptomes using PCA...\n",
      "Calculating doublet scores...\n"
     ]
    },
    {
     "name": "stderr",
     "output_type": "stream",
     "text": [
      "/home/USSR/bp382/bin/python/anaconda3/lib/python3.6/importlib/_bootstrap.py:219: RuntimeWarning: numpy.dtype size changed, may indicate binary incompatibility. Expected 96, got 88\n",
      "  return f(*args, **kwds)\n",
      "/home/USSR/bp382/bin/python/anaconda3/lib/python3.6/importlib/_bootstrap.py:219: RuntimeWarning: numpy.dtype size changed, may indicate binary incompatibility\n",
      "  return f(*args, **kwds)\n"
     ]
    },
    {
     "name": "stdout",
     "output_type": "stream",
     "text": [
      "Automatically set threshold at doublet score = 0.35\n",
      "Detected doublet rate = 4.9%\n",
      "Estimated detectable doublet fraction = 38.4%\n",
      "Overall doublet rate:\n",
      "\tExpected   = 10.0%\n",
      "\tEstimated  = 12.8%\n",
      "Elapsed time: 2027.8 seconds\n"
     ]
    }
   ],
   "source": [
    "doublet_scores, predicted_doublets = scrub.scrub_doublets(min_counts=0.001, \n",
    "                                                          min_cells=0.001,\n",
    "                                                          min_gene_variability_pctl=20,\n",
    "                                                          n_prin_comps=100)"
   ]
  },
  {
   "cell_type": "markdown",
   "metadata": {},
   "source": [
    "## Set the doublet threshold to 0.4"
   ]
  },
  {
   "cell_type": "code",
   "execution_count": 29,
   "metadata": {},
   "outputs": [
    {
     "name": "stdout",
     "output_type": "stream",
     "text": [
      "Detected doublet rate = 3.2%\n",
      "Estimated detectable doublet fraction = 29.2%\n",
      "Overall doublet rate:\n",
      "\tExpected   = 10.0%\n",
      "\tEstimated  = 11.1%\n"
     ]
    },
    {
     "data": {
      "text/plain": [
       "array([False, False, False, ..., False, False, False])"
      ]
     },
     "execution_count": 29,
     "metadata": {},
     "output_type": "execute_result"
    }
   ],
   "source": [
    "scrub.call_doublets(threshold=0.40)"
   ]
  },
  {
   "cell_type": "code",
   "execution_count": 30,
   "metadata": {},
   "outputs": [
    {
     "data": {
      "image/png": "[encoded data removed]",
      "text/plain": [
       "<Figure size 576x216 with 2 Axes>"
      ]
     },
     "metadata": {
      "image/png": {
       "height": 200,
       "width": 561
      }
     },
     "output_type": "display_data"
    }
   ],
   "source": [
    "scrub.plot_histogram();\n"
   ]
  },
  {
   "cell_type": "code",
   "execution_count": 11,
   "metadata": {
    "collapsed": true
   },
   "outputs": [],
   "source": [
    "adata.obs['doublet_scores'] = doublet_scores\n"
   ]
  },
  {
   "cell_type": "code",
   "execution_count": 15,
   "metadata": {
    "collapsed": true
   },
   "outputs": [],
   "source": [
    "meta = pd.DataFrame(data=adata.obs)\n",
    "meta.to_csv(direc + '07_doublet_removal/data/snATACseq_embryo_revision01_doublets_cisTopic_50_100_metadata.csv', sep=',')\n"
   ]
  },
  {
   "cell_type": "code",
   "execution_count": null,
   "metadata": {
    "collapsed": true
   },
   "outputs": [],
   "source": [
    "sc.write(\"./write/20190416_snATACseq_embryo_revision01_doublets_cisTopic_50_100.h5ad\",adata)"
   ]
  }
 ],
 "metadata": {
  "kernelspec": {
   "display_name": "Python 3",
   "language": "python",
   "name": "python3"
  },
  "language_info": {
   "codemirror_mode": {
    "name": "ipython",
    "version": 3
   },
   "file_extension": ".py",
   "mimetype": "text/x-python",
   "name": "python",
   "nbconvert_exporter": "python",
   "pygments_lexer": "ipython3",
   "version": "3.6.8"
  }
 },
 "nbformat": 4,
 "nbformat_minor": 2
}
